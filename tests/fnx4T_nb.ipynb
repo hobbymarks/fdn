{
 "cells": [
  {
   "cell_type": "code",
   "execution_count": 2,
   "id": "b4936913-edf1-452f-af99-00346c4d310b",
   "metadata": {
    "execution": {
     "iopub.execute_input": "2021-05-14T02:27:00.112042Z",
     "iopub.status.busy": "2021-05-14T02:27:00.111830Z",
     "iopub.status.idle": "2021-05-14T02:27:00.116897Z",
     "shell.execute_reply": "2021-05-14T02:27:00.116340Z",
     "shell.execute_reply.started": "2021-05-14T02:27:00.112019Z"
    },
    "tags": []
   },
   "outputs": [],
   "source": [
    "import random\n",
    "\n",
    "\n",
    "def random_unicode(length):\n",
    "\n",
    "    try:\n",
    "        get_char = unichr\n",
    "    except NameError:\n",
    "        get_char = chr\n",
    "\n",
    "    # Update this to include code point ranges to be sampled\n",
    "    include_ranges = [\n",
    "        (0x0021, 0x0021),\n",
    "        (0x0023, 0x0026),\n",
    "        (0x0028, 0x007E),\n",
    "        (0x00A1, 0x00AC),\n",
    "        (0x00AE, 0x00FF),\n",
    "        (0x0100, 0x017F),\n",
    "        (0x0180, 0x024F),\n",
    "        (0x2C60, 0x2C7F),\n",
    "        (0x16A0, 0x16F0),\n",
    "        (0x0370, 0x0377),\n",
    "        (0x037A, 0x037E),\n",
    "        (0x0384, 0x038A),\n",
    "        (0x038C, 0x038C),\n",
    "    ]\n",
    "\n",
    "    alphabet = [\n",
    "        get_char(code_point)\n",
    "        for current_range in include_ranges\n",
    "        for code_point in range(current_range[0], current_range[1] + 1)\n",
    "    ]\n",
    "    return ''.join(random.choice(alphabet) for i in range(length))"
   ]
  },
  {
   "cell_type": "code",
   "execution_count": 5,
   "id": "5c7ed10a-2cba-4cbb-8ee2-b4643c5a2f8f",
   "metadata": {
    "execution": {
     "iopub.execute_input": "2021-05-14T02:27:24.221554Z",
     "iopub.status.busy": "2021-05-14T02:27:24.221265Z",
     "iopub.status.idle": "2021-05-14T02:27:24.225993Z",
     "shell.execute_reply": "2021-05-14T02:27:24.225483Z",
     "shell.execute_reply.started": "2021-05-14T02:27:24.221522Z"
    },
    "tags": []
   },
   "outputs": [
    {
     "data": {
      "text/plain": [
       "'»ᛔǩⱼᛎÊ&èŚù=¨Ňňȋ'"
      ]
     },
     "execution_count": 5,
     "metadata": {},
     "output_type": "execute_result"
    }
   ],
   "source": [
    "random_unicode(15)"
   ]
  },
  {
   "cell_type": "code",
   "execution_count": 10,
   "id": "9d83a163-e97b-49b7-a0a1-030510edba16",
   "metadata": {
    "execution": {
     "iopub.execute_input": "2021-05-14T02:29:03.469954Z",
     "iopub.status.busy": "2021-05-14T02:29:03.469682Z",
     "iopub.status.idle": "2021-05-14T02:29:03.474246Z",
     "shell.execute_reply": "2021-05-14T02:29:03.473598Z",
     "shell.execute_reply.started": "2021-05-14T02:29:03.469922Z"
    },
    "tags": []
   },
   "outputs": [
    {
     "data": {
      "text/plain": [
       "'祼'"
      ]
     },
     "execution_count": 10,
     "metadata": {},
     "output_type": "execute_result"
    }
   ],
   "source": [
    "chr(31100)"
   ]
  },
  {
   "cell_type": "code",
   "execution_count": 21,
   "id": "2c2f3e2e-841f-48fc-b095-a8b05cdf3789",
   "metadata": {
    "execution": {
     "iopub.execute_input": "2021-05-14T03:13:54.848844Z",
     "iopub.status.busy": "2021-05-14T03:13:54.848521Z",
     "iopub.status.idle": "2021-05-14T03:13:54.853072Z",
     "shell.execute_reply": "2021-05-14T03:13:54.852395Z",
     "shell.execute_reply.started": "2021-05-14T03:13:54.848810Z"
    },
    "tags": []
   },
   "outputs": [],
   "source": [
    "import os\n",
    "from pathlib import Path\n",
    "\n",
    "target_dir = \"tgt_root\"\n",
    "Path.mkdir(Path(target_dir), parents=True, exist_ok=True)"
   ]
  },
  {
   "cell_type": "code",
   "execution_count": 22,
   "id": "4a7dc46e-2390-4266-b39b-729d34b361d0",
   "metadata": {
    "execution": {
     "iopub.execute_input": "2021-05-14T03:13:55.570906Z",
     "iopub.status.busy": "2021-05-14T03:13:55.570648Z",
     "iopub.status.idle": "2021-05-14T03:13:55.575237Z",
     "shell.execute_reply": "2021-05-14T03:13:55.574279Z",
     "shell.execute_reply.started": "2021-05-14T03:13:55.570877Z"
    },
    "tags": []
   },
   "outputs": [],
   "source": [
    "ext_list = [\"pdf\", \"mp4\", \"jpg\", \"html\"]\n",
    "file_name_list = [\n",
    "    \"This is a Test file\", \"_thi is file %\", \"这是测试文件 \", \"$0 测试用文件\"\n",
    "]\n",
    "dir_name_list = [\"test directory\", \"_is dir %\", \"测试@#文件夹\", \"!临时文件夹\"]"
   ]
  },
  {
   "cell_type": "code",
   "execution_count": 26,
   "id": "7eaa3e1f-eb66-48e6-855e-037d5401926a",
   "metadata": {
    "execution": {
     "iopub.execute_input": "2021-05-14T03:17:15.669435Z",
     "iopub.status.busy": "2021-05-14T03:17:15.669177Z",
     "iopub.status.idle": "2021-05-14T03:17:15.674756Z",
     "shell.execute_reply": "2021-05-14T03:17:15.674131Z",
     "shell.execute_reply.started": "2021-05-14T03:17:15.669402Z"
    },
    "tags": []
   },
   "outputs": [
    {
     "name": "stdout",
     "output_type": "stream",
     "text": [
      "tgt_root/This is a Test file.pdf\n",
      "tgt_root/_thi is file %.mp4\n",
      "tgt_root/这是测试文件 .jpg\n",
      "tgt_root/$0 测试用文件.html\n"
     ]
    }
   ],
   "source": [
    "for fn, ext in zip(file_name_list, ext_list):\n",
    "    f_path = os.path.join(Path(target_dir), \".\".join([fn, ext]))\n",
    "    with open(f_path, \"a\"):\n",
    "        os.utime(f_path, None)\n",
    "        print(f\"{f_path}\")"
   ]
  },
  {
   "cell_type": "code",
   "execution_count": 28,
   "id": "0d7673ec-7083-4daf-ba59-e48a8594822b",
   "metadata": {
    "execution": {
     "iopub.execute_input": "2021-05-14T03:20:20.620978Z",
     "iopub.status.busy": "2021-05-14T03:20:20.620286Z",
     "iopub.status.idle": "2021-05-14T03:20:20.631296Z",
     "shell.execute_reply": "2021-05-14T03:20:20.630265Z",
     "shell.execute_reply.started": "2021-05-14T03:20:20.620904Z"
    },
    "tags": []
   },
   "outputs": [
    {
     "name": "stdout",
     "output_type": "stream",
     "text": [
      "tgt_root/test directory\n",
      "tgt_root/_is dir %\n",
      "tgt_root/测试@#文件夹\n",
      "tgt_root/!临时文件夹\n"
     ]
    }
   ],
   "source": [
    "for d in dir_name_list:\n",
    "    f_path = os.path.join(Path(target_dir), d)\n",
    "    if os.path.exists(f_path):\n",
    "        continue\n",
    "    os.makedirs(f_path)\n",
    "    print(f\"{f_path}\")"
   ]
  },
  {
   "cell_type": "code",
   "execution_count": null,
   "id": "84c37e74-569b-4818-b3b9-6761bba43038",
   "metadata": {},
   "outputs": [],
   "source": []
  }
 ],
 "metadata": {
  "kernelspec": {
   "display_name": "Python 3",
   "language": "python",
   "name": "python3"
  },
  "language_info": {
   "codemirror_mode": {
    "name": "ipython",
    "version": 3
   },
   "file_extension": ".py",
   "mimetype": "text/x-python",
   "name": "python",
   "nbconvert_exporter": "python",
   "pygments_lexer": "ipython3",
   "version": "3.8.10"
  }
 },
 "nbformat": 4,
 "nbformat_minor": 5
}
